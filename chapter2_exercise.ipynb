{
  "nbformat": 4,
  "nbformat_minor": 0,
  "metadata": {
    "colab": {
      "name": "chapter2-exercise.ipynb",
      "provenance": [],
      "include_colab_link": true
    },
    "kernelspec": {
      "name": "python3",
      "display_name": "Python 3"
    }
  },
  "cells": [
    {
      "cell_type": "markdown",
      "metadata": {
        "id": "view-in-github",
        "colab_type": "text"
      },
      "source": [
        "<a href=\"https://colab.research.google.com/github/Ldkhanhduy/baitapchuong2/blob/main/chapter2_exercise.ipynb\" target=\"_parent\"><img src=\"https://colab.research.google.com/assets/colab-badge.svg\" alt=\"Open In Colab\"/></a>"
      ]
    },
    {
      "cell_type": "markdown",
      "metadata": {
        "id": "sMJ5KoiBMARd"
      },
      "source": [
        "**BÀI TẬP LẬP TRÌNH CHƯƠNG 2**\n",
        "\n",
        "Bài 1: Lập trình nhập vào từ bàn phím 2 số nguyên và tính:\n",
        "\n",
        "\n",
        "1.   Tổng của 2 số\n",
        "2.   Tích của 2 số\n",
        "3.   Hiệu của 2 số\n",
        "4.   Phép chia lấy phần dư của 2 số\n",
        "5.   Phép chia lấy phần nguyên của 2 số\n",
        "\n",
        "Kết quả xuất ra màn hình\n",
        "\n"
      ]
    },
    {
      "cell_type": "code",
      "metadata": {
        "id": "Os5z0wPpL1Nk",
        "colab": {
          "base_uri": "https://localhost:8080/"
        },
        "outputId": "9c573409-7b1e-4e2a-9ce6-2ccc0bbb8bfc"
      },
      "source": [
        "#Your code here\n",
        "\n",
        "a=int(input(\"a= \"))\n",
        "b=int(input(\"b= \"))\n",
        "print(\"Tong cua hai so:\", a+b)\n",
        "print(\"Tich cua hai so:\", a*b)\n",
        "print(\"Hieu cua hai so: \"+ str(a-b))\n",
        "print(\"Phep chia lay phan du:\", a%b)\n",
        "print(\"Phep chia lay phan nguyen:\", a//b)"
      ],
      "execution_count": 3,
      "outputs": [
        {
          "output_type": "stream",
          "name": "stdout",
          "text": [
            "a= 20\n",
            "b= 3\n",
            "Tong cua hai so: 23\n",
            "Tich cua hai so: 60\n",
            "Hieu cua hai so: 17\n",
            "Phep chia lay phan du: 2\n",
            "Phep chia lay phan nguyen: 6\n"
          ]
        }
      ]
    },
    {
      "cell_type": "markdown",
      "metadata": {
        "id": "j2suJwVPM5Zk"
      },
      "source": [
        "Bài 2: Lập trình nhập vào từ bàn phím 2 số thực và tính:\n",
        "\n",
        "1.   Tổng của 2 số\n",
        "2.   Tích của 2 số\n",
        "3.   Hiệu của 2 số\n",
        "4.   Thương của 2 số\n",
        "\n",
        "Kết quả xuất ra màn hình"
      ]
    },
    {
      "cell_type": "code",
      "metadata": {
        "id": "fmlD-ggRMh9q"
      },
      "source": [
        "#Your code here\n",
        "a=float(input(\"a= \"))\n",
        "b=float(input(\"b= \"))\n",
        "print(\"Tong cua hai so:\", a+b)\n",
        "print(\"Tich cua hai so:\", a*b)\n",
        "print(\"Hieu cua hai so:\", a-b)\n",
        "print(\"Thuong cua hai so:\", a/b)\n",
        "\n",
        "\n"
      ],
      "execution_count": null,
      "outputs": []
    },
    {
      "cell_type": "markdown",
      "metadata": {
        "id": "sOCly6AvNUAN"
      },
      "source": [
        "Bài 3: (Sử dụng các hàm toán học) Nhập một số từ bàn phím và tính:\n",
        "\n",
        "\n",
        "\n",
        "1.   Trị tuyệt đối\n",
        "2.   Lấy phần nguyên của số\n",
        "3.   Chuyển đổi thành số thực\n",
        "4.   (nhập thêm 1 số từ bàn phím) và tính lũy thừa $ x^y $\n",
        "5.   Tính căn bậc hai\n",
        "\n",
        "Kết quả xuất ra màn hình\n",
        "\n"
      ]
    },
    {
      "cell_type": "code",
      "metadata": {
        "id": "XNKN4yAoOUAa",
        "colab": {
          "base_uri": "https://localhost:8080/"
        },
        "outputId": "57cf80dc-37c0-4928-b499-d1854f1c4928"
      },
      "source": [
        "#Your code here\n",
        "import math\n",
        "\n",
        "a=input(\"a= \")\n",
        "a=float(a)\n",
        "print(\"Gia tri tuyet doi cua\", a, \"la \", math.fabs(a))\n",
        "a= math.fabs(a)\n",
        "print(\"Phan nguyen cua \", a, \"la \", int(a))\n",
        "print(\"Chuyen doi thanh so thuc: \", float(a))\n",
        "b=float(input(\"nhap so mu: \"))\n",
        "print(a,\"**\",b, \"=\", a**b)\n",
        "print(\"Can bac hai cua \", a, \"la\", math.sqrt(a))"
      ],
      "execution_count": 13,
      "outputs": [
        {
          "output_type": "stream",
          "name": "stdout",
          "text": [
            "a= -9\n",
            "Gia tri tuyet doi cua -9.0 la  9.0\n",
            "Phan nguyen cua  9.0 la  9\n",
            "Chuyen doi thanh so thuc:  9.0\n",
            "nhap so mu: 2\n",
            "9.0 ** 2.0 = 81.0\n",
            "Can bac hai cua  9.0 la 3.0\n"
          ]
        }
      ]
    },
    {
      "cell_type": "markdown",
      "metadata": {
        "id": "79zQGrU5Od-d"
      },
      "source": [
        "Bài 4: Nhập 2 số từ bàn phím và thực hiện các phép so sánh sau giữa 2 số:\n",
        "\n",
        "\n",
        "\n",
        "1.   $ \\geq $\n",
        "2.   $ \\leq $\n",
        "3.   $ > $\n",
        "4.   $ < $\n",
        "5.   $ \\neq $\n",
        "\n",
        "Kết quả xuất ra màn hình\n"
      ]
    },
    {
      "cell_type": "code",
      "metadata": {
        "id": "qePknJEaP1tL",
        "colab": {
          "base_uri": "https://localhost:8080/"
        },
        "outputId": "d3da2e24-df51-4c47-8390-f0f702ea7060"
      },
      "source": [
        "#Your code here\n",
        "a=float(input(\"a=\"))\n",
        "b=float(input(\"b=\"))\n",
        "print(\"a lon hon hoac bang b:\",bool(a>=b))\n",
        "print(\"a be hon hoac bang b:\",bool(a<=b))\n",
        "print(\"a lon hon b:\",bool(a>b))\n",
        "print(\"a be hon b:\",bool(a<b))\n",
        "print(\"a khac b:\",bool(a!=b))\n",
        "\n",
        "\n"
      ],
      "execution_count": 23,
      "outputs": [
        {
          "output_type": "stream",
          "name": "stdout",
          "text": [
            "a=4\n",
            "b=8\n",
            "a lon hon hoac bang b: False\n",
            "a be hon hoac bang b: True\n",
            "a lon hon b: False\n",
            "a be hon b: True\n",
            "a khac b: True\n"
          ]
        }
      ]
    },
    {
      "cell_type": "markdown",
      "metadata": {
        "id": "90lU8sTXP4hu"
      },
      "source": [
        "Bài 5: Nhập 1 chuỗi ký tự từ bàn phím:\n",
        "\n",
        "\n",
        "\n",
        "1.   Chuyển thành chuỗi in hoa\n",
        "2.   Chuyển thành chuỗi in thường\n",
        "\n",
        "Kết quả xuất ra màn hình\n",
        "\n",
        "\n",
        "\n"
      ]
    },
    {
      "cell_type": "code",
      "metadata": {
        "id": "PWIIssukQXja",
        "colab": {
          "base_uri": "https://localhost:8080/"
        },
        "outputId": "fb24896e-c21f-4404-d1c7-ff8dcd5683d2"
      },
      "source": [
        "#Your code here\n",
        "a=input()\n",
        "print(a.upper())\n",
        "print(a.lower())\n",
        "\n"
      ],
      "execution_count": 17,
      "outputs": [
        {
          "output_type": "stream",
          "name": "stdout",
          "text": [
            "xIN Chao cac baN\n",
            "XIN CHAO CAC BAN\n",
            "xin chao cac ban\n"
          ]
        }
      ]
    },
    {
      "cell_type": "markdown",
      "metadata": {
        "id": "gv9n9-gMQZ7O"
      },
      "source": [
        "Bài 6: Xuất ra màn hình 1 chuỗi ký từ nằm trên nhiều hàng (có thể là 1 bài thơ tùy ý bạn lựa chọn)"
      ]
    },
    {
      "cell_type": "code",
      "metadata": {
        "id": "ZcjBCkQOQoS0",
        "colab": {
          "base_uri": "https://localhost:8080/"
        },
        "outputId": "d47247c6-0f46-4322-ba1f-09677bc391d0"
      },
      "source": [
        "#Your code here\n",
        "chuoi=\"Dem thang nam chua nam da sang\\nNgay thang muoi chua cuoi da toi\"\n",
        "print(chuoi)\n",
        "\n",
        "\n"
      ],
      "execution_count": 24,
      "outputs": [
        {
          "output_type": "stream",
          "name": "stdout",
          "text": [
            "Dem thang nam chua nam da sang\n",
            "Ngay thang muoi chua cuoi da toi\n"
          ]
        }
      ]
    }
  ]
}